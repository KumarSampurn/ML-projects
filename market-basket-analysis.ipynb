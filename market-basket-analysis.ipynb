{
 "cells": [
  {
   "cell_type": "markdown",
   "id": "f8cbd6f6",
   "metadata": {
    "papermill": {
     "duration": 0.009467,
     "end_time": "2024-02-15T13:19:20.873745",
     "exception": false,
     "start_time": "2024-02-15T13:19:20.864278",
     "status": "completed"
    },
    "tags": []
   },
   "source": [
    "\n",
    "As a data analyst working with \"FreashEats\" , our mission is to uncover meaningful patterns within customer transactions to enhance their shopping experience and help us compete with our competitor \"Not-So-FreshEats\"."
   ]
  },
  {
   "cell_type": "markdown",
   "id": "93e2b613",
   "metadata": {
    "papermill": {
     "duration": 0.006665,
     "end_time": "2024-02-15T13:19:20.887520",
     "exception": false,
     "start_time": "2024-02-15T13:19:20.880855",
     "status": "completed"
    },
    "tags": []
   },
   "source": [
    "### About the dataset\n",
    "- \"FreshEats_transactions.csv\"\n",
    "- Each record of the dataset represents a transaction made by a customer at \"FreashEats Superstore\".\n",
    "- The transaction contains the items bought in that transaction"
   ]
  },
  {
   "cell_type": "code",
   "execution_count": 1,
   "id": "9e2f2b1c",
   "metadata": {
    "execution": {
     "iopub.execute_input": "2024-02-15T13:19:20.905716Z",
     "iopub.status.busy": "2024-02-15T13:19:20.904025Z",
     "iopub.status.idle": "2024-02-15T13:19:40.638188Z",
     "shell.execute_reply": "2024-02-15T13:19:40.636330Z"
    },
    "papermill": {
     "duration": 19.746513,
     "end_time": "2024-02-15T13:19:40.641186",
     "exception": false,
     "start_time": "2024-02-15T13:19:20.894673",
     "status": "completed"
    },
    "tags": []
   },
   "outputs": [
    {
     "name": "stdout",
     "output_type": "stream",
     "text": [
      "Collecting apyori\r\n",
      "  Downloading apyori-1.1.2.tar.gz (8.6 kB)\r\n",
      "  Preparing metadata (setup.py) ... \u001b[?25l-\b \bdone\r\n",
      "\u001b[?25hBuilding wheels for collected packages: apyori\r\n",
      "  Building wheel for apyori (setup.py) ... \u001b[?25l-\b \b\\\b \bdone\r\n",
      "\u001b[?25h  Created wheel for apyori: filename=apyori-1.1.2-py3-none-any.whl size=5955 sha256=7da9894d4399539fdb05b52ddfa0303d9044b58d89e00ed78569b7f0686254da\r\n",
      "  Stored in directory: /root/.cache/pip/wheels/c4/1a/79/20f55c470a50bb3702a8cb7c94d8ada15573538c7f4baebe2d\r\n",
      "Successfully built apyori\r\n",
      "Installing collected packages: apyori\r\n",
      "Successfully installed apyori-1.1.2\r\n",
      "Note: you may need to restart the kernel to use updated packages.\n"
     ]
    }
   ],
   "source": [
    "# Install apyori package\n",
    "# Use % or ! based on the environment to install\n",
    "%pip install apyori "
   ]
  },
  {
   "cell_type": "markdown",
   "id": "f6467ce4",
   "metadata": {
    "papermill": {
     "duration": 0.007786,
     "end_time": "2024-02-15T13:19:40.657384",
     "exception": false,
     "start_time": "2024-02-15T13:19:40.649598",
     "status": "completed"
    },
    "tags": []
   },
   "source": [
    "apyori documentation: https://pypi.org/project/apyori/ (Refer API Usage)"
   ]
  },
  {
   "cell_type": "code",
   "execution_count": 2,
   "id": "ff2a76a8",
   "metadata": {
    "execution": {
     "iopub.execute_input": "2024-02-15T13:19:40.676404Z",
     "iopub.status.busy": "2024-02-15T13:19:40.675860Z",
     "iopub.status.idle": "2024-02-15T13:19:41.687564Z",
     "shell.execute_reply": "2024-02-15T13:19:41.686085Z"
    },
    "papermill": {
     "duration": 1.025215,
     "end_time": "2024-02-15T13:19:41.690726",
     "exception": false,
     "start_time": "2024-02-15T13:19:40.665511",
     "status": "completed"
    },
    "tags": []
   },
   "outputs": [],
   "source": [
    "import pandas as pd\n",
    "from apyori import apriori"
   ]
  },
  {
   "cell_type": "markdown",
   "id": "d344163a",
   "metadata": {
    "papermill": {
     "duration": 0.007623,
     "end_time": "2024-02-15T13:19:41.706489",
     "exception": false,
     "start_time": "2024-02-15T13:19:41.698866",
     "status": "completed"
    },
    "tags": []
   },
   "source": [
    "### Preprocessing"
   ]
  },
  {
   "cell_type": "code",
   "execution_count": 3,
   "id": "23e00231",
   "metadata": {
    "execution": {
     "iopub.execute_input": "2024-02-15T13:19:41.724419Z",
     "iopub.status.busy": "2024-02-15T13:19:41.723903Z",
     "iopub.status.idle": "2024-02-15T13:19:41.774037Z",
     "shell.execute_reply": "2024-02-15T13:19:41.772769Z"
    },
    "papermill": {
     "duration": 0.062349,
     "end_time": "2024-02-15T13:19:41.776851",
     "exception": false,
     "start_time": "2024-02-15T13:19:41.714502",
     "status": "completed"
    },
    "tags": []
   },
   "outputs": [],
   "source": [
    "# Loading dataframe\n",
    "df = pd.read_csv(\"/kaggle/input/fresheats-superstore/FreshEats_transactions.csv\", header=None)"
   ]
  },
  {
   "cell_type": "code",
   "execution_count": 4,
   "id": "7a2051a3",
   "metadata": {
    "execution": {
     "iopub.execute_input": "2024-02-15T13:19:41.795624Z",
     "iopub.status.busy": "2024-02-15T13:19:41.795102Z",
     "iopub.status.idle": "2024-02-15T13:19:41.835046Z",
     "shell.execute_reply": "2024-02-15T13:19:41.833887Z"
    },
    "papermill": {
     "duration": 0.052664,
     "end_time": "2024-02-15T13:19:41.837725",
     "exception": false,
     "start_time": "2024-02-15T13:19:41.785061",
     "status": "completed"
    },
    "tags": []
   },
   "outputs": [
    {
     "data": {
      "text/html": [
       "<div>\n",
       "<style scoped>\n",
       "    .dataframe tbody tr th:only-of-type {\n",
       "        vertical-align: middle;\n",
       "    }\n",
       "\n",
       "    .dataframe tbody tr th {\n",
       "        vertical-align: top;\n",
       "    }\n",
       "\n",
       "    .dataframe thead th {\n",
       "        text-align: right;\n",
       "    }\n",
       "</style>\n",
       "<table border=\"1\" class=\"dataframe\">\n",
       "  <thead>\n",
       "    <tr style=\"text-align: right;\">\n",
       "      <th></th>\n",
       "      <th>0</th>\n",
       "      <th>1</th>\n",
       "      <th>2</th>\n",
       "      <th>3</th>\n",
       "      <th>4</th>\n",
       "      <th>5</th>\n",
       "      <th>6</th>\n",
       "      <th>7</th>\n",
       "      <th>8</th>\n",
       "      <th>9</th>\n",
       "      <th>10</th>\n",
       "      <th>11</th>\n",
       "      <th>12</th>\n",
       "      <th>13</th>\n",
       "      <th>14</th>\n",
       "      <th>15</th>\n",
       "      <th>16</th>\n",
       "      <th>17</th>\n",
       "      <th>18</th>\n",
       "      <th>19</th>\n",
       "    </tr>\n",
       "  </thead>\n",
       "  <tbody>\n",
       "    <tr>\n",
       "      <th>0</th>\n",
       "      <td>shrimp</td>\n",
       "      <td>almonds</td>\n",
       "      <td>avocado</td>\n",
       "      <td>vegetables mix</td>\n",
       "      <td>green grapes</td>\n",
       "      <td>whole weat flour</td>\n",
       "      <td>yams</td>\n",
       "      <td>cottage cheese</td>\n",
       "      <td>energy drink</td>\n",
       "      <td>tomato juice</td>\n",
       "      <td>low fat yogurt</td>\n",
       "      <td>green tea</td>\n",
       "      <td>honey</td>\n",
       "      <td>salad</td>\n",
       "      <td>mineral water</td>\n",
       "      <td>salmon</td>\n",
       "      <td>antioxydant juice</td>\n",
       "      <td>frozen smoothie</td>\n",
       "      <td>spinach</td>\n",
       "      <td>olive oil</td>\n",
       "    </tr>\n",
       "    <tr>\n",
       "      <th>1</th>\n",
       "      <td>burgers</td>\n",
       "      <td>meatballs</td>\n",
       "      <td>eggs</td>\n",
       "      <td>NaN</td>\n",
       "      <td>NaN</td>\n",
       "      <td>NaN</td>\n",
       "      <td>NaN</td>\n",
       "      <td>NaN</td>\n",
       "      <td>NaN</td>\n",
       "      <td>NaN</td>\n",
       "      <td>NaN</td>\n",
       "      <td>NaN</td>\n",
       "      <td>NaN</td>\n",
       "      <td>NaN</td>\n",
       "      <td>NaN</td>\n",
       "      <td>NaN</td>\n",
       "      <td>NaN</td>\n",
       "      <td>NaN</td>\n",
       "      <td>NaN</td>\n",
       "      <td>NaN</td>\n",
       "    </tr>\n",
       "    <tr>\n",
       "      <th>2</th>\n",
       "      <td>chutney</td>\n",
       "      <td>NaN</td>\n",
       "      <td>NaN</td>\n",
       "      <td>NaN</td>\n",
       "      <td>NaN</td>\n",
       "      <td>NaN</td>\n",
       "      <td>NaN</td>\n",
       "      <td>NaN</td>\n",
       "      <td>NaN</td>\n",
       "      <td>NaN</td>\n",
       "      <td>NaN</td>\n",
       "      <td>NaN</td>\n",
       "      <td>NaN</td>\n",
       "      <td>NaN</td>\n",
       "      <td>NaN</td>\n",
       "      <td>NaN</td>\n",
       "      <td>NaN</td>\n",
       "      <td>NaN</td>\n",
       "      <td>NaN</td>\n",
       "      <td>NaN</td>\n",
       "    </tr>\n",
       "    <tr>\n",
       "      <th>3</th>\n",
       "      <td>turkey</td>\n",
       "      <td>avocado</td>\n",
       "      <td>NaN</td>\n",
       "      <td>NaN</td>\n",
       "      <td>NaN</td>\n",
       "      <td>NaN</td>\n",
       "      <td>NaN</td>\n",
       "      <td>NaN</td>\n",
       "      <td>NaN</td>\n",
       "      <td>NaN</td>\n",
       "      <td>NaN</td>\n",
       "      <td>NaN</td>\n",
       "      <td>NaN</td>\n",
       "      <td>NaN</td>\n",
       "      <td>NaN</td>\n",
       "      <td>NaN</td>\n",
       "      <td>NaN</td>\n",
       "      <td>NaN</td>\n",
       "      <td>NaN</td>\n",
       "      <td>NaN</td>\n",
       "    </tr>\n",
       "    <tr>\n",
       "      <th>4</th>\n",
       "      <td>mineral water</td>\n",
       "      <td>milk</td>\n",
       "      <td>energy bar</td>\n",
       "      <td>whole wheat rice</td>\n",
       "      <td>green tea</td>\n",
       "      <td>NaN</td>\n",
       "      <td>NaN</td>\n",
       "      <td>NaN</td>\n",
       "      <td>NaN</td>\n",
       "      <td>NaN</td>\n",
       "      <td>NaN</td>\n",
       "      <td>NaN</td>\n",
       "      <td>NaN</td>\n",
       "      <td>NaN</td>\n",
       "      <td>NaN</td>\n",
       "      <td>NaN</td>\n",
       "      <td>NaN</td>\n",
       "      <td>NaN</td>\n",
       "      <td>NaN</td>\n",
       "      <td>NaN</td>\n",
       "    </tr>\n",
       "  </tbody>\n",
       "</table>\n",
       "</div>"
      ],
      "text/plain": [
       "              0          1           2                 3             4   \\\n",
       "0         shrimp    almonds     avocado    vegetables mix  green grapes   \n",
       "1        burgers  meatballs        eggs               NaN           NaN   \n",
       "2        chutney        NaN         NaN               NaN           NaN   \n",
       "3         turkey    avocado         NaN               NaN           NaN   \n",
       "4  mineral water       milk  energy bar  whole wheat rice     green tea   \n",
       "\n",
       "                 5     6               7             8             9   \\\n",
       "0  whole weat flour  yams  cottage cheese  energy drink  tomato juice   \n",
       "1               NaN   NaN             NaN           NaN           NaN   \n",
       "2               NaN   NaN             NaN           NaN           NaN   \n",
       "3               NaN   NaN             NaN           NaN           NaN   \n",
       "4               NaN   NaN             NaN           NaN           NaN   \n",
       "\n",
       "               10         11     12     13             14      15  \\\n",
       "0  low fat yogurt  green tea  honey  salad  mineral water  salmon   \n",
       "1             NaN        NaN    NaN    NaN            NaN     NaN   \n",
       "2             NaN        NaN    NaN    NaN            NaN     NaN   \n",
       "3             NaN        NaN    NaN    NaN            NaN     NaN   \n",
       "4             NaN        NaN    NaN    NaN            NaN     NaN   \n",
       "\n",
       "                  16               17       18         19  \n",
       "0  antioxydant juice  frozen smoothie  spinach  olive oil  \n",
       "1                NaN              NaN      NaN        NaN  \n",
       "2                NaN              NaN      NaN        NaN  \n",
       "3                NaN              NaN      NaN        NaN  \n",
       "4                NaN              NaN      NaN        NaN  "
      ]
     },
     "execution_count": 4,
     "metadata": {},
     "output_type": "execute_result"
    }
   ],
   "source": [
    "df.head()"
   ]
  },
  {
   "cell_type": "code",
   "execution_count": 5,
   "id": "836ab1fc",
   "metadata": {
    "execution": {
     "iopub.execute_input": "2024-02-15T13:19:41.858887Z",
     "iopub.status.busy": "2024-02-15T13:19:41.857229Z",
     "iopub.status.idle": "2024-02-15T13:19:41.896084Z",
     "shell.execute_reply": "2024-02-15T13:19:41.894943Z"
    },
    "papermill": {
     "duration": 0.052527,
     "end_time": "2024-02-15T13:19:41.898607",
     "exception": false,
     "start_time": "2024-02-15T13:19:41.846080",
     "status": "completed"
    },
    "tags": []
   },
   "outputs": [
    {
     "name": "stdout",
     "output_type": "stream",
     "text": [
      "<class 'pandas.core.frame.DataFrame'>\n",
      "RangeIndex: 7501 entries, 0 to 7500\n",
      "Data columns (total 20 columns):\n",
      " #   Column  Non-Null Count  Dtype \n",
      "---  ------  --------------  ----- \n",
      " 0   0       7501 non-null   object\n",
      " 1   1       5747 non-null   object\n",
      " 2   2       4389 non-null   object\n",
      " 3   3       3345 non-null   object\n",
      " 4   4       2529 non-null   object\n",
      " 5   5       1864 non-null   object\n",
      " 6   6       1369 non-null   object\n",
      " 7   7       981 non-null    object\n",
      " 8   8       654 non-null    object\n",
      " 9   9       395 non-null    object\n",
      " 10  10      256 non-null    object\n",
      " 11  11      154 non-null    object\n",
      " 12  12      87 non-null     object\n",
      " 13  13      47 non-null     object\n",
      " 14  14      25 non-null     object\n",
      " 15  15      8 non-null      object\n",
      " 16  16      4 non-null      object\n",
      " 17  17      4 non-null      object\n",
      " 18  18      3 non-null      object\n",
      " 19  19      1 non-null      object\n",
      "dtypes: object(20)\n",
      "memory usage: 1.1+ MB\n"
     ]
    }
   ],
   "source": [
    "df.info()"
   ]
  },
  {
   "cell_type": "code",
   "execution_count": 6,
   "id": "2dbf4d43",
   "metadata": {
    "execution": {
     "iopub.execute_input": "2024-02-15T13:19:41.918715Z",
     "iopub.status.busy": "2024-02-15T13:19:41.917273Z",
     "iopub.status.idle": "2024-02-15T13:19:42.646182Z",
     "shell.execute_reply": "2024-02-15T13:19:42.644579Z"
    },
    "papermill": {
     "duration": 0.741949,
     "end_time": "2024-02-15T13:19:42.649264",
     "exception": false,
     "start_time": "2024-02-15T13:19:41.907315",
     "status": "completed"
    },
    "tags": []
   },
   "outputs": [
    {
     "data": {
      "text/plain": [
       "['shrimp',\n",
       " 'almonds',\n",
       " 'avocado',\n",
       " 'vegetables mix',\n",
       " 'green grapes',\n",
       " 'whole weat flour',\n",
       " 'yams',\n",
       " 'cottage cheese',\n",
       " 'energy drink',\n",
       " 'tomato juice',\n",
       " 'low fat yogurt',\n",
       " 'green tea',\n",
       " 'honey',\n",
       " 'salad',\n",
       " 'mineral water',\n",
       " 'salmon',\n",
       " 'antioxydant juice',\n",
       " 'frozen smoothie',\n",
       " 'spinach',\n",
       " 'olive oil']"
      ]
     },
     "execution_count": 6,
     "metadata": {},
     "output_type": "execute_result"
    }
   ],
   "source": [
    "transactions = []\n",
    "for index, row in df.iterrows():\n",
    "    transaction = [item for item in row if pd.notna(item)]\n",
    "    transactions.append(transaction)\n",
    "\n",
    "transactions[0]"
   ]
  },
  {
   "cell_type": "markdown",
   "id": "898aab04",
   "metadata": {
    "papermill": {
     "duration": 0.008448,
     "end_time": "2024-02-15T13:19:42.666533",
     "exception": false,
     "start_time": "2024-02-15T13:19:42.658085",
     "status": "completed"
    },
    "tags": []
   },
   "source": [
    "### Item Set creation"
   ]
  },
  {
   "cell_type": "code",
   "execution_count": 7,
   "id": "be74593d",
   "metadata": {
    "execution": {
     "iopub.execute_input": "2024-02-15T13:19:42.686576Z",
     "iopub.status.busy": "2024-02-15T13:19:42.686043Z",
     "iopub.status.idle": "2024-02-15T13:19:42.724429Z",
     "shell.execute_reply": "2024-02-15T13:19:42.722944Z"
    },
    "papermill": {
     "duration": 0.051715,
     "end_time": "2024-02-15T13:19:42.727124",
     "exception": false,
     "start_time": "2024-02-15T13:19:42.675409",
     "status": "completed"
    },
    "tags": []
   },
   "outputs": [
    {
     "name": "stdout",
     "output_type": "stream",
     "text": [
      "Frequent Item Sets:\n",
      "Items: frozenset({'burgers'}), Support: 0.0871883748833489\n",
      "Items: frozenset({'cake'}), Support: 0.08105585921877083\n",
      "Items: frozenset({'champagne'}), Support: 0.04679376083188908\n",
      "Items: frozenset({'chicken'}), Support: 0.05999200106652446\n",
      "Items: frozenset({'chocolate'}), Support: 0.1638448206905746\n",
      "Items: frozenset({'cookies'}), Support: 0.08038928142914278\n",
      "Items: frozenset({'cooking oil'}), Support: 0.0510598586855086\n",
      "Items: frozenset({'eggs'}), Support: 0.17970937208372217\n",
      "Items: frozenset({'escalope'}), Support: 0.0793227569657379\n",
      "Items: frozenset({'french fries'}), Support: 0.1709105452606319\n",
      "Items: frozenset({'frozen smoothie'}), Support: 0.06332489001466471\n",
      "Items: frozenset({'frozen vegetables'}), Support: 0.09532062391681109\n",
      "Items: frozenset({'grated cheese'}), Support: 0.0523930142647647\n",
      "Items: frozenset({'green tea'}), Support: 0.13211571790427942\n",
      "Items: frozenset({'ground beef'}), Support: 0.09825356619117451\n",
      "Items: frozenset({'herb & pepper'}), Support: 0.04946007199040128\n",
      "Items: frozenset({'honey'}), Support: 0.047460338621517134\n",
      "Items: frozenset({'low fat yogurt'}), Support: 0.07652313024930009\n",
      "Items: frozenset({'milk'}), Support: 0.12958272230369283\n",
      "Items: frozenset({'mineral water'}), Support: 0.23836821757099053\n",
      "Items: frozenset({'olive oil'}), Support: 0.0658578856152513\n",
      "Items: frozenset({'pancakes'}), Support: 0.09505399280095987\n",
      "Items: frozenset({'shrimp'}), Support: 0.07145713904812692\n",
      "Items: frozenset({'soup'}), Support: 0.05052659645380616\n",
      "Items: frozenset({'spaghetti'}), Support: 0.17411011865084655\n",
      "Items: frozenset({'tomatoes'}), Support: 0.06839088121583789\n",
      "Items: frozenset({'turkey'}), Support: 0.06252499666711105\n",
      "Items: frozenset({'whole wheat rice'}), Support: 0.058525529929342755\n",
      "Items: frozenset({'mineral water', 'chocolate'}), Support: 0.05265964538061592\n",
      "Items: frozenset({'eggs', 'mineral water'}), Support: 0.05092654312758299\n",
      "Items: frozenset({'milk', 'mineral water'}), Support: 0.04799360085321957\n",
      "Items: frozenset({'spaghetti', 'mineral water'}), Support: 0.05972536995067324\n"
     ]
    }
   ],
   "source": [
    "# 1 . Print out the frequent item sets along with their support values\n",
    "results = list(apriori(transactions, min_support=0.045))\n",
    "\n",
    "print(\"Frequent Item Sets:\")\n",
    "for itemset in results:\n",
    "    support = itemset.support\n",
    "    items = itemset.items\n",
    "    print(f\"Items: {items}, Support: {support}\")\n",
    "\n"
   ]
  },
  {
   "cell_type": "code",
   "execution_count": 8,
   "id": "9473d9ca",
   "metadata": {
    "execution": {
     "iopub.execute_input": "2024-02-15T13:19:42.747509Z",
     "iopub.status.busy": "2024-02-15T13:19:42.747077Z",
     "iopub.status.idle": "2024-02-15T13:19:42.753565Z",
     "shell.execute_reply": "2024-02-15T13:19:42.752068Z"
    },
    "papermill": {
     "duration": 0.020217,
     "end_time": "2024-02-15T13:19:42.756320",
     "exception": false,
     "start_time": "2024-02-15T13:19:42.736103",
     "status": "completed"
    },
    "tags": []
   },
   "outputs": [
    {
     "name": "stdout",
     "output_type": "stream",
     "text": [
      "\n",
      "Count of Item Sets: 32\n"
     ]
    }
   ],
   "source": [
    "# Display the count of item sets\n",
    "print(\"\\nCount of Item Sets:\", len(results))"
   ]
  },
  {
   "cell_type": "code",
   "execution_count": 9,
   "id": "898ed964",
   "metadata": {
    "execution": {
     "iopub.execute_input": "2024-02-15T13:19:42.777260Z",
     "iopub.status.busy": "2024-02-15T13:19:42.776789Z",
     "iopub.status.idle": "2024-02-15T13:19:42.784353Z",
     "shell.execute_reply": "2024-02-15T13:19:42.783196Z"
    },
    "papermill": {
     "duration": 0.02199,
     "end_time": "2024-02-15T13:19:42.787691",
     "exception": false,
     "start_time": "2024-02-15T13:19:42.765701",
     "status": "completed"
    },
    "tags": []
   },
   "outputs": [
    {
     "name": "stdout",
     "output_type": "stream",
     "text": [
      "\n",
      "Top 5 Most Popular Items/Item Sets:\n",
      "Items: frozenset({'mineral water'})\t\t Support: 0.23836821757099053\n",
      "Items: frozenset({'eggs'})\t\t Support: 0.17970937208372217\n",
      "Items: frozenset({'spaghetti'})\t\t Support: 0.17411011865084655\n",
      "Items: frozenset({'french fries'})\t\t Support: 0.1709105452606319\n",
      "Items: frozenset({'chocolate'})\t\t Support: 0.1638448206905746\n"
     ]
    }
   ],
   "source": [
    "# 2. Display the top 5 most popular items/item sets\n",
    "top_items = sorted(results, key=lambda x: x.support, reverse=True)[:5]\n",
    "print(\"\\nTop 5 Most Popular Items/Item Sets:\")\n",
    "for itemset in top_items:\n",
    "    support = itemset.support\n",
    "    items = itemset.items\n",
    "    print(f\"Items: {items}\\t\\t Support: {support}\")\n"
   ]
  },
  {
   "cell_type": "markdown",
   "id": "33c95e56",
   "metadata": {
    "papermill": {
     "duration": 0.009135,
     "end_time": "2024-02-15T13:19:42.806428",
     "exception": false,
     "start_time": "2024-02-15T13:19:42.797293",
     "status": "completed"
    },
    "tags": []
   },
   "source": [
    "Support represents the *proportion of transactions* that contain a *particular item set*. Since the values are arranged in descending order, the **item at the top** is **likely** to be **present in most of the sets**. Therefore, we can conclude that **items with high support values are included in most sets**, indicating their popularity. If FreshEats is considering restocking its supplies, it should **prioritize these items**, as the probability of these items being selected is higher than others."
   ]
  },
  {
   "cell_type": "code",
   "execution_count": 10,
   "id": "38ae84d9",
   "metadata": {
    "execution": {
     "iopub.execute_input": "2024-02-15T13:19:42.828528Z",
     "iopub.status.busy": "2024-02-15T13:19:42.828083Z",
     "iopub.status.idle": "2024-02-15T13:19:42.930953Z",
     "shell.execute_reply": "2024-02-15T13:19:42.929496Z"
    },
    "papermill": {
     "duration": 0.117888,
     "end_time": "2024-02-15T13:19:42.933945",
     "exception": false,
     "start_time": "2024-02-15T13:19:42.816057",
     "status": "completed"
    },
    "tags": []
   },
   "outputs": [
    {
     "name": "stdout",
     "output_type": "stream",
     "text": [
      "Association Rules:\n",
      "Antecedent: burgers, Consequent: cake, Confidence: 0.1314984709480122, Lift: 1.6223191292451309\n",
      "Antecedent: burgers, Consequent: eggs, Confidence: 0.33027522935779813, Lift: 1.8378297443715457\n",
      "Antecedent: burgers, Consequent: green tea, Confidence: 0.2003058103975535, Lift: 1.5161391360161947\n",
      "Antecedent: burgers, Consequent: milk, Confidence: 0.20489296636085627, Lift: 1.581175041844427\n",
      "Antecedent: burgers, Consequent: turkey, Confidence: 0.12232415902140673, Lift: 1.9564040870353345\n",
      "Antecedent: cake, Consequent: pancakes, Confidence: 0.14638157894736845, Lift: 1.5399834834280655\n",
      "Antecedent: cereals, Consequent: mineral water, Confidence: 0.3989637305699482, Lift: 1.6737287153272828\n",
      "Antecedent: champagne, Consequent: chocolate, Confidence: 0.24786324786324784, Lift: 1.5127926950546964\n",
      "Antecedent: chicken, Consequent: milk, Confidence: 0.24666666666666667, Lift: 1.9035459533607684\n",
      "Antecedent: chicken, Consequent: mineral water, Confidence: 0.38000000000000006, Lift: 1.5941722595078303\n",
      "Antecedent: chicken, Consequent: spaghetti, Confidence: 0.2866666666666667, Lift: 1.6464675855028077\n",
      "Antecedent: chocolate, Consequent: cooking oil, Confidence: 0.08299430431244914, Lift: 1.6254315317171828\n",
      "Antecedent: chocolate, Consequent: milk, Confidence: 0.19609438567941412, Lift: 1.5132757067708698\n",
      "Antecedent: chocolate, Consequent: olive oil, Confidence: 0.1000813669650122, Lift: 1.5196565457582116\n",
      "Antecedent: chocolate, Consequent: salmon, Confidence: 0.06509357200976403, Lift: 1.5306171901104701\n",
      "Antecedent: chocolate, Consequent: shrimp, Confidence: 0.1098454027664768, Lift: 1.5372208323719074\n",
      "Antecedent: cooking oil, Consequent: milk, Confidence: 0.22454308093994776, Lift: 1.732816512479988\n",
      "Antecedent: cooking oil, Consequent: mineral water, Confidence: 0.3942558746736292, Lift: 1.6539783646123563\n",
      "Antecedent: cooking oil, Consequent: spaghetti, Confidence: 0.31070496083550914, Lift: 1.7845313255950643\n",
      "Antecedent: eggs, Consequent: turkey, Confidence: 0.10830860534124628, Lift: 1.7322448798820649\n",
      "Antecedent: frozen smoothie, Consequent: milk, Confidence: 0.22526315789473686, Lift: 1.7383734026424087\n",
      "Antecedent: frozen vegetables, Consequent: ground beef, Confidence: 0.17762237762237765, Lift: 1.807795732083385\n",
      "Antecedent: frozen vegetables, Consequent: milk, Confidence: 0.24755244755244757, Lift: 1.9103815937149273\n",
      "Antecedent: frozen vegetables, Consequent: mineral water, Confidence: 0.37482517482517486, Lift: 1.57246288387228\n",
      "Antecedent: frozen vegetables, Consequent: olive oil, Confidence: 0.11888111888111888, Lift: 1.8051159366948841\n",
      "Antecedent: frozen vegetables, Consequent: shrimp, Confidence: 0.17482517482517482, Lift: 2.4465739484396196\n",
      "Antecedent: frozen vegetables, Consequent: spaghetti, Confidence: 0.29230769230769227, Lift: 1.678866768759571\n",
      "Antecedent: frozen vegetables, Consequent: tomatoes, Confidence: 0.1692307692307692, Lift: 2.4744639376218323\n",
      "Antecedent: grated cheese, Consequent: ground beef, Confidence: 0.2162849872773537, Lift: 2.201294015695292\n",
      "Antecedent: grated cheese, Consequent: spaghetti, Confidence: 0.3155216284987277, Lift: 1.8121958157495839\n",
      "Antecedent: ground beef, Consequent: herb & pepper, Confidence: 0.1628222523744912, Lift: 3.291993841134928\n",
      "Antecedent: ground beef, Consequent: milk, Confidence: 0.22388059701492538, Lift: 1.7277040722314356\n",
      "Antecedent: ground beef, Consequent: mineral water, Confidence: 0.41655359565807326, Lift: 1.7475215442008991\n",
      "Antecedent: ground beef, Consequent: olive oil, Confidence: 0.14382632293080055, Lift: 2.183889166607156\n",
      "Antecedent: ground beef, Consequent: pancakes, Confidence: 0.14789687924016282, Lift: 1.555924952567267\n",
      "Antecedent: ground beef, Consequent: shrimp, Confidence: 0.11668928086838534, Lift: 1.6329968205107432\n",
      "Antecedent: ground beef, Consequent: spaghetti, Confidence: 0.3989145183175034, Lift: 2.291162176033379\n",
      "Antecedent: ground beef, Consequent: tomatoes, Confidence: 0.11940298507462688, Lift: 1.7458904308865033\n",
      "Antecedent: herb & pepper, Consequent: spaghetti, Confidence: 0.32884097035040427, Lift: 1.8886953434903389\n",
      "Antecedent: milk, Consequent: mineral water, Confidence: 0.3703703703703704, Lift: 1.5537741320739085\n",
      "Antecedent: milk, Consequent: olive oil, Confidence: 0.13168724279835392, Lift: 1.9995668182802688\n",
      "Antecedent: milk, Consequent: shrimp, Confidence: 0.1358024691358025, Lift: 1.9004744794545791\n",
      "Antecedent: milk, Consequent: soup, Confidence: 0.11728395061728396, Lift: 2.321231961953158\n",
      "Antecedent: milk, Consequent: spaghetti, Confidence: 0.27366255144032925, Lift: 1.5717785592296398\n",
      "Antecedent: milk, Consequent: tomatoes, Confidence: 0.1080246913580247, Lift: 1.5795189276345873\n",
      "Antecedent: milk, Consequent: whole wheat rice, Confidence: 0.09156378600823047, Lift: 1.5645101568285575\n",
      "Antecedent: mineral water, Consequent: olive oil, Confidence: 0.11577181208053693, Lift: 1.7579035676439423\n",
      "Antecedent: mineral water, Consequent: red wine, Confidence: 0.04586129753914989, Lift: 1.6303582599107265\n",
      "Antecedent: mineral water, Consequent: salmon, Confidence: 0.07158836689038031, Lift: 1.6833364891684726\n",
      "Antecedent: mineral water, Consequent: soup, Confidence: 0.09675615212527965, Lift: 1.9149548735929356\n",
      "Antecedent: olive oil, Consequent: pancakes, Confidence: 0.1639676113360324, Lift: 1.7249944637189047\n",
      "Antecedent: olive oil, Consequent: spaghetti, Confidence: 0.3481781376518219, Lift: 1.999758201015556\n",
      "Antecedent: pancakes, Consequent: shrimp, Confidence: 0.11079943899018233, Lift: 1.5505719997488014\n",
      "Antecedent: pancakes, Consequent: spaghetti, Confidence: 0.2650771388499299, Lift: 1.522468314328732\n",
      "Antecedent: red wine, Consequent: spaghetti, Confidence: 0.36492890995260663, Lift: 2.095966120638976\n",
      "Antecedent: salmon, Consequent: spaghetti, Confidence: 0.3166144200626959, Lift: 1.8184722548930183\n",
      "Antecedent: shrimp, Consequent: spaghetti, Confidence: 0.2966417910447761, Lift: 1.7037596283513519\n",
      "Antecedent: shrimp, Consequent: tomatoes, Confidence: 0.15671641791044774, Lift: 2.2914811905385353\n",
      "Antecedent: soup, Consequent: spaghetti, Confidence: 0.2823218997361478, Lift: 1.6215134532318871\n",
      "Antecedent: spaghetti, Consequent: tomatoes, Confidence: 0.12021439509954057, Lift: 1.7577547322449392\n",
      "Antecedent: spaghetti, Consequent: turkey, Confidence: 0.09494640122511486, Lift: 1.5185350865449607\n",
      "Antecedent: chocolate, Consequent: eggs, mineral water, Confidence: 0.08218063466232708, Lift: 1.6137092685919252\n",
      "Antecedent: chocolate, Consequent: spaghetti, eggs, Confidence: 0.06427990235964198, Lift: 1.759720976641148\n",
      "Antecedent: chocolate, Consequent: mineral water, ground beef, Confidence: 0.06672091131000812, Lift: 1.6302070219425764\n",
      "Antecedent: chocolate, Consequent: milk, mineral water, Confidence: 0.0854353132628153, Lift: 1.7801396799566043\n",
      "Antecedent: chocolate, Consequent: milk, spaghetti, Confidence: 0.06672091131000812, Lift: 1.8814795328434997\n",
      "Antecedent: chocolate, Consequent: spaghetti, mineral water, Confidence: 0.096826688364524, Lift: 1.621198637103336\n",
      "Antecedent: ground beef, Consequent: eggs, mineral water, Confidence: 0.10312075983717775, Lift: 2.0248921977452103\n",
      "Antecedent: eggs, Consequent: milk, mineral water, Confidence: 0.07270029673590504, Lift: 1.5147914606000659\n",
      "Antecedent: mineral water, Consequent: spaghetti, eggs, Confidence: 0.059843400447427295, Lift: 1.6382676888910663\n",
      "Antecedent: spaghetti, Consequent: mineral water, french fries, Confidence: 0.05819295558958652, Lift: 1.7253176279742628\n",
      "Antecedent: frozen vegetables, Consequent: milk, mineral water, Confidence: 0.11608391608391608, Lift: 2.4187373737373736\n",
      "Antecedent: frozen vegetables, Consequent: spaghetti, mineral water, Confidence: 0.12587412587412586, Lift: 2.1075487012987013\n",
      "Antecedent: ground beef, Consequent: milk, mineral water, Confidence: 0.11261872455902307, Lift: 2.3465362581034226\n",
      "Antecedent: ground beef, Consequent: spaghetti, mineral water, Confidence: 0.17367706919945725, Lift: 2.90792789300252\n",
      "Antecedent: milk, Consequent: spaghetti, mineral water, Confidence: 0.12139917695473253, Lift: 2.0326232730746625\n",
      "Antecedent: olive oil, Consequent: spaghetti, mineral water, Confidence: 0.15587044534412955, Lift: 2.6097861842105265\n",
      "Antecedent: mineral water, Consequent: spaghetti, pancakes, Confidence: 0.04809843400447427, Lift: 1.908922505119373\n"
     ]
    }
   ],
   "source": [
    "from apyori import apriori\n",
    "\n",
    "association_rules = list(apriori(transactions, min_support=0.01, min_confidence=0.045, min_lift=1.5, min_length=2))\n",
    "\n",
    "# Display association rules along with confidence and lift\n",
    "print(\"Association Rules:\")\n",
    "for rule in association_rules:\n",
    "    antecedent = ', '.join(rule.ordered_statistics[0].items_base)\n",
    "    consequent = ', '.join(rule.ordered_statistics[0].items_add)\n",
    "    confidence = rule.ordered_statistics[0].confidence\n",
    "    lift = rule.ordered_statistics[0].lift\n",
    "    print(f\"Antecedent: {antecedent}, Consequent: {consequent}, Confidence: {confidence}, Lift: {lift}\")\n"
   ]
  },
  {
   "cell_type": "markdown",
   "id": "fe2ae29e",
   "metadata": {
    "papermill": {
     "duration": 0.010255,
     "end_time": "2024-02-15T13:19:42.954012",
     "exception": false,
     "start_time": "2024-02-15T13:19:42.943757",
     "status": "completed"
    },
    "tags": []
   },
   "source": [
    "Lets take a example rule to understand the relationship between antecedent and consequent\n",
    "\n",
    "Example Rule:\n",
    "\n",
    "* Antecedent: burgers\n",
    "* Consequent: cake\n",
    "* Confidence: 0.1315\n",
    "* Lift: 1.6223\n",
    "\n",
    "Interpretation: When a customer buys **burgers**, there is a **13.15% probability** that they **will also buy cake**. The **lift of 1.6223** indicates that this **association is stronger** than what would be expected if the items were purchased independently.\n",
    "\n",
    "The same way all the Rules can be analysed"
   ]
  },
  {
   "cell_type": "markdown",
   "id": "6094c31c",
   "metadata": {
    "papermill": {
     "duration": 0.009254,
     "end_time": "2024-02-15T13:19:42.973314",
     "exception": false,
     "start_time": "2024-02-15T13:19:42.964060",
     "status": "completed"
    },
    "tags": []
   },
   "source": [
    "With the understanding of Confidence and Lift we can say that\n",
    "\n",
    "**Confidence**: It measures the probability of the **consequent item being purchased given** that the **antecedent item is purchased**. It helps you assess the strength of the association between two items.\n",
    "\n",
    "**Lift**: It measures how much **more likely the items are to be bought together** compared to if they were purchased independently. It helps you identify interesting and meaningful associations between items."
   ]
  },
  {
   "cell_type": "markdown",
   "id": "aa38ece5",
   "metadata": {
    "papermill": {
     "duration": 0.009439,
     "end_time": "2024-02-15T13:19:42.993035",
     "exception": false,
     "start_time": "2024-02-15T13:19:42.983596",
     "status": "completed"
    },
    "tags": []
   },
   "source": [
    "* To identify the top 5 popular pairs/sets of items/item_sets purchased, considering the probability of the consequent item being purchased when the antecedent item is bought, follow these steps:\n",
    "\n",
    "**Sort the list** provided by the apriori function based on the **confidence value**. By doing this, we obtain a set of antecedent and consequent items with high confidence values, indicating a **high probability of the consequent item being bought given the antecedent item is purchased.**"
   ]
  },
  {
   "cell_type": "code",
   "execution_count": 11,
   "id": "68f060fd",
   "metadata": {
    "execution": {
     "iopub.execute_input": "2024-02-15T13:19:43.016813Z",
     "iopub.status.busy": "2024-02-15T13:19:43.016347Z",
     "iopub.status.idle": "2024-02-15T13:19:43.023582Z",
     "shell.execute_reply": "2024-02-15T13:19:43.022756Z"
    },
    "papermill": {
     "duration": 0.024437,
     "end_time": "2024-02-15T13:19:43.027330",
     "exception": false,
     "start_time": "2024-02-15T13:19:43.002893",
     "status": "completed"
    },
    "tags": []
   },
   "outputs": [
    {
     "name": "stdout",
     "output_type": "stream",
     "text": [
      "\n",
      "Top 5 Popular Pairs/Sets (Considering Confidence):\n",
      "\n",
      "Antecedent: ground beef ||  Consequent: mineral water ||  Confidence: 0.42\n",
      "\n",
      "Antecedent: cereals ||  Consequent: mineral water ||  Confidence: 0.40\n",
      "\n",
      "Antecedent: ground beef ||  Consequent: spaghetti ||  Confidence: 0.40\n",
      "\n",
      "Antecedent: cooking oil ||  Consequent: mineral water ||  Confidence: 0.39\n",
      "\n",
      "Antecedent: chicken ||  Consequent: mineral water ||  Confidence: 0.38\n",
      "\n"
     ]
    }
   ],
   "source": [
    "# Display the top 5 popular pairs/sets considering the probability of the consequent item being purchased\n",
    "top_confidence_rules = sorted(association_rules, key=lambda x: x.ordered_statistics[0].confidence, reverse=True)[:5]\n",
    "print(\"\\nTop 5 Popular Pairs/Sets (Considering Confidence):\\n\")\n",
    "for rule in top_confidence_rules:\n",
    "    antecedent = ', '.join(rule.ordered_statistics[0].items_base)\n",
    "    consequent = ', '.join(rule.ordered_statistics[0].items_add)\n",
    "    confidence = rule.ordered_statistics[0].confidence\n",
    "    lift = rule.ordered_statistics[0].lift\n",
    "    print(f\"Antecedent: {antecedent} ||  Consequent: {consequent} ||  Confidence: {confidence:.2f}\\n\")\n"
   ]
  },
  {
   "cell_type": "markdown",
   "id": "7c232d2d",
   "metadata": {
    "papermill": {
     "duration": 0.009327,
     "end_time": "2024-02-15T13:19:43.046384",
     "exception": false,
     "start_time": "2024-02-15T13:19:43.037057",
     "status": "completed"
    },
    "tags": []
   },
   "source": [
    "* To identify the top 5 popular pairs/sets of items/item_sets bought together, considering the popularity of both consequent and antecedent items, follow these steps:\n",
    "\n",
    "**Sort the list** provided by the apriori function based on the **lift value**. By doing this, we obtain a set of antecedent and consequent items with high lift values, signifying a strong association and a **high likelihood of the antecedent and consequent items being bought together.**"
   ]
  },
  {
   "cell_type": "code",
   "execution_count": 12,
   "id": "bcc8aaad",
   "metadata": {
    "execution": {
     "iopub.execute_input": "2024-02-15T13:19:43.067785Z",
     "iopub.status.busy": "2024-02-15T13:19:43.067295Z",
     "iopub.status.idle": "2024-02-15T13:19:43.076027Z",
     "shell.execute_reply": "2024-02-15T13:19:43.074620Z"
    },
    "papermill": {
     "duration": 0.022762,
     "end_time": "2024-02-15T13:19:43.078607",
     "exception": false,
     "start_time": "2024-02-15T13:19:43.055845",
     "status": "completed"
    },
    "tags": []
   },
   "outputs": [
    {
     "name": "stdout",
     "output_type": "stream",
     "text": [
      "\n",
      "Top 5 Popular Pairs/Sets (Considering Lift):\n",
      "\n",
      "Antecedent: ground beef  ||  Consequent: herb & pepper ||  Lift: 3.29 \n",
      "\n",
      "Antecedent: ground beef  ||  Consequent: spaghetti, mineral water ||  Lift: 2.91 \n",
      "\n",
      "Antecedent: olive oil  ||  Consequent: spaghetti, mineral water ||  Lift: 2.61 \n",
      "\n",
      "Antecedent: frozen vegetables  ||  Consequent: tomatoes ||  Lift: 2.47 \n",
      "\n",
      "Antecedent: frozen vegetables  ||  Consequent: shrimp ||  Lift: 2.45 \n",
      "\n"
     ]
    }
   ],
   "source": [
    "top_lift_rules = sorted(association_rules, key=lambda x: x.ordered_statistics[0].lift, reverse=True)[:5]\n",
    "print(\"\\nTop 5 Popular Pairs/Sets (Considering Lift):\\n\")\n",
    "for rule in top_lift_rules:\n",
    "    antecedent = ', '.join(rule.ordered_statistics[0].items_base)\n",
    "    consequent = ', '.join(rule.ordered_statistics[0].items_add)\n",
    "    confidence = rule.ordered_statistics[0].confidence\n",
    "    lift = rule.ordered_statistics[0].lift\n",
    "    print(f\"Antecedent: {antecedent}  ||  Consequent: {consequent} ||  Lift: {lift:.2f} \\n\")"
   ]
  }
 ],
 "metadata": {
  "kaggle": {
   "accelerator": "none",
   "dataSources": [
    {
     "datasetId": 4033535,
     "sourceId": 7015402,
     "sourceType": "datasetVersion"
    }
   ],
   "dockerImageVersionId": 30587,
   "isGpuEnabled": false,
   "isInternetEnabled": true,
   "language": "python",
   "sourceType": "notebook"
  },
  "kernelspec": {
   "display_name": "Python 3",
   "language": "python",
   "name": "python3"
  },
  "language_info": {
   "codemirror_mode": {
    "name": "ipython",
    "version": 3
   },
   "file_extension": ".py",
   "mimetype": "text/x-python",
   "name": "python",
   "nbconvert_exporter": "python",
   "pygments_lexer": "ipython3",
   "version": "3.10.12"
  },
  "papermill": {
   "default_parameters": {},
   "duration": 27.443571,
   "end_time": "2024-02-15T13:19:43.711265",
   "environment_variables": {},
   "exception": null,
   "input_path": "__notebook__.ipynb",
   "output_path": "__notebook__.ipynb",
   "parameters": {},
   "start_time": "2024-02-15T13:19:16.267694",
   "version": "2.4.0"
  }
 },
 "nbformat": 4,
 "nbformat_minor": 5
}
