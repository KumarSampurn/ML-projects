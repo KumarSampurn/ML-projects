{
 "cells": [
  {
   "cell_type": "markdown",
   "id": "54d8200f",
   "metadata": {
    "papermill": {
     "duration": 0.00527,
     "end_time": "2024-02-15T13:32:11.890966",
     "exception": false,
     "start_time": "2024-02-15T13:32:11.885696",
     "status": "completed"
    },
    "tags": []
   },
   "source": [
    "The **Content-based filtering** approach uses additional information about users and/or items. The Content-based approach requires a good amount of information about items’ features, rather than using the user’s interactions and feedback. This approach can be used to recommend a wide variety of items, including movies, music, books, products, and even news articles. It is a popular approach for recommender systems because it is relatively easy to implement and can be effective in many cases.\n",
    "\n",
    "### Prerequisites\n",
    "- The following concepts have to be revised\n",
    "    - TF-IDF\n",
    "    - Content-based filtering\n",
    "    - Cosine Similarity\n",
    "- The following dependencies have to be installed\n",
    "    - pandas\n",
    "    - numpy\n",
    "    - sklearn\n",
    "    - nltk package (**This can be installed using nltk.download()**)"
   ]
  },
  {
   "cell_type": "markdown",
   "id": "34b5cbe5",
   "metadata": {
    "papermill": {
     "duration": 0.00459,
     "end_time": "2024-02-15T13:32:11.902357",
     "exception": false,
     "start_time": "2024-02-15T13:32:11.897767",
     "status": "completed"
    },
    "tags": []
   },
   "source": [
    "### Dataset\n",
    "\n",
    "2021 has seen a boom in the MOOCs due to the Covid-19 Pandemic. With the availability of numerous paid and free resources on the internet, it becomes overwhelming for students to learn new skills. MOOCs are online courses that are open to anyone to enroll and participate. They offer a great opportunity for students to learn new skills at their own pace and from the comfort of their own home.\n",
    "\n",
    "This dataset was scraped off the publicly available information on the [EdX website](https://www.edx.org/) till September 2021. You can download the dataset [from here](https://github.com/pratham76/UE21CS342AA2-Data-Analytics/blob/main/EDX_WORKSHEET4B.csv). The data is a subset of this [kaggle dataset](https://www.kaggle.com/datasets/khusheekapoor/edx-courses-dataset-2021) that has been extensively preprocessed and stored within the `EDX_WORKSHEET4B.csv`\n",
    "\n",
    "In this notebook, we will be exploring and analyzing all the courses offered by EDX. First, we will tokenize the textual data using TF-IDF. Then, we will proceed to find the top-k most similarcorses using cosine similarity between the transformed vectors.\n",
    "\n",
    "\n",
    "\n",
    "\n"
   ]
  },
  {
   "cell_type": "markdown",
   "id": "bd5e0c61",
   "metadata": {
    "papermill": {
     "duration": 0.004801,
     "end_time": "2024-02-15T13:32:11.912223",
     "exception": false,
     "start_time": "2024-02-15T13:32:11.907422",
     "status": "completed"
    },
    "tags": []
   },
   "source": [
    "### Data Dictionary\n",
    "**Name**: Name of the Course.\n",
    "\n",
    "**University**: The University offering this particular course\n",
    "\n",
    "**text**: The text associated with the tweet.\n",
    "\n",
    "**Difficulty level**: The difficulty of the course classified as Beginer, Intermediate and Advanced\n",
    "\n",
    "\n",
    "**link**: Link to the course page.\n",
    "\n",
    "**About**: Objective of the course.\n",
    "\n",
    "**Description**: Complete Description of the course.\n"
   ]
  },
  {
   "cell_type": "markdown",
   "id": "b71d8d3c",
   "metadata": {
    "papermill": {
     "duration": 0.00453,
     "end_time": "2024-02-15T13:32:11.921584",
     "exception": false,
     "start_time": "2024-02-15T13:32:11.917054",
     "status": "completed"
    },
    "tags": []
   },
   "source": [
    "### Loading the dataset"
   ]
  },
  {
   "cell_type": "code",
   "execution_count": 1,
   "id": "53935994",
   "metadata": {
    "execution": {
     "iopub.execute_input": "2024-02-15T13:32:11.933364Z",
     "iopub.status.busy": "2024-02-15T13:32:11.932857Z",
     "iopub.status.idle": "2024-02-15T13:32:12.876230Z",
     "shell.execute_reply": "2024-02-15T13:32:12.874901Z"
    },
    "papermill": {
     "duration": 0.95242,
     "end_time": "2024-02-15T13:32:12.878810",
     "exception": false,
     "start_time": "2024-02-15T13:32:11.926390",
     "status": "completed"
    },
    "tags": []
   },
   "outputs": [
    {
     "data": {
      "text/html": [
       "<div>\n",
       "<style scoped>\n",
       "    .dataframe tbody tr th:only-of-type {\n",
       "        vertical-align: middle;\n",
       "    }\n",
       "\n",
       "    .dataframe tbody tr th {\n",
       "        vertical-align: top;\n",
       "    }\n",
       "\n",
       "    .dataframe thead th {\n",
       "        text-align: right;\n",
       "    }\n",
       "</style>\n",
       "<table border=\"1\" class=\"dataframe\">\n",
       "  <thead>\n",
       "    <tr style=\"text-align: right;\">\n",
       "      <th></th>\n",
       "      <th>Name</th>\n",
       "      <th>University</th>\n",
       "      <th>Difficulty Level</th>\n",
       "      <th>Link</th>\n",
       "      <th>About</th>\n",
       "      <th>Course Description</th>\n",
       "    </tr>\n",
       "  </thead>\n",
       "  <tbody>\n",
       "    <tr>\n",
       "      <th>0</th>\n",
       "      <td>How to Learn Online</td>\n",
       "      <td>edX</td>\n",
       "      <td>Beginner</td>\n",
       "      <td>https://www.edx.org/course/how-to-learn-online</td>\n",
       "      <td>Learn essential strategies for successful onli...</td>\n",
       "      <td>Designed for those who are new to elearning, t...</td>\n",
       "    </tr>\n",
       "    <tr>\n",
       "      <th>1</th>\n",
       "      <td>Programming for Everybody (Getting Started wit...</td>\n",
       "      <td>The University of Michigan</td>\n",
       "      <td>Beginner</td>\n",
       "      <td>https://www.edx.org/course/programming-for-eve...</td>\n",
       "      <td>This course is a \"no prerequisite\" introductio...</td>\n",
       "      <td>This course aims to teach everyone the basics ...</td>\n",
       "    </tr>\n",
       "    <tr>\n",
       "      <th>2</th>\n",
       "      <td>CS50's Introduction to Computer Science</td>\n",
       "      <td>Harvard University</td>\n",
       "      <td>Beginner</td>\n",
       "      <td>https://www.edx.org/course/cs50s-introduction-...</td>\n",
       "      <td>An introduction to the intellectual enterprise...</td>\n",
       "      <td>This is CS50x , Harvard University's introduct...</td>\n",
       "    </tr>\n",
       "    <tr>\n",
       "      <th>3</th>\n",
       "      <td>The Analytics Edge</td>\n",
       "      <td>Massachusetts Institute of Technology</td>\n",
       "      <td>Intermediate</td>\n",
       "      <td>https://www.edx.org/course/the-analytics-edge</td>\n",
       "      <td>Through inspiring examples and stories, discov...</td>\n",
       "      <td>In the last decade, the amount of data availab...</td>\n",
       "    </tr>\n",
       "    <tr>\n",
       "      <th>4</th>\n",
       "      <td>Marketing Analytics: Marketing Measurement Str...</td>\n",
       "      <td>University of California, Berkeley</td>\n",
       "      <td>Beginner</td>\n",
       "      <td>https://www.edx.org/course/marketing-analytics...</td>\n",
       "      <td>This course is part of a MicroMasters® Program</td>\n",
       "      <td>Begin your journey in a new career in marketin...</td>\n",
       "    </tr>\n",
       "  </tbody>\n",
       "</table>\n",
       "</div>"
      ],
      "text/plain": [
       "                                                Name  \\\n",
       "0                                How to Learn Online   \n",
       "1  Programming for Everybody (Getting Started wit...   \n",
       "2            CS50's Introduction to Computer Science   \n",
       "3                                 The Analytics Edge   \n",
       "4  Marketing Analytics: Marketing Measurement Str...   \n",
       "\n",
       "                              University Difficulty Level  \\\n",
       "0                                    edX         Beginner   \n",
       "1             The University of Michigan         Beginner   \n",
       "2                     Harvard University         Beginner   \n",
       "3  Massachusetts Institute of Technology     Intermediate   \n",
       "4     University of California, Berkeley         Beginner   \n",
       "\n",
       "                                                Link  \\\n",
       "0     https://www.edx.org/course/how-to-learn-online   \n",
       "1  https://www.edx.org/course/programming-for-eve...   \n",
       "2  https://www.edx.org/course/cs50s-introduction-...   \n",
       "3      https://www.edx.org/course/the-analytics-edge   \n",
       "4  https://www.edx.org/course/marketing-analytics...   \n",
       "\n",
       "                                               About  \\\n",
       "0  Learn essential strategies for successful onli...   \n",
       "1  This course is a \"no prerequisite\" introductio...   \n",
       "2  An introduction to the intellectual enterprise...   \n",
       "3  Through inspiring examples and stories, discov...   \n",
       "4     This course is part of a MicroMasters® Program   \n",
       "\n",
       "                                  Course Description  \n",
       "0  Designed for those who are new to elearning, t...  \n",
       "1  This course aims to teach everyone the basics ...  \n",
       "2  This is CS50x , Harvard University's introduct...  \n",
       "3  In the last decade, the amount of data availab...  \n",
       "4  Begin your journey in a new career in marketin...  "
      ]
     },
     "execution_count": 1,
     "metadata": {},
     "output_type": "execute_result"
    }
   ],
   "source": [
    "import numpy as np\n",
    "import pandas as pd\n",
    "df = pd.read_csv('/kaggle/input/edx-dataset-preprocessed/EDX.csv')\n",
    "df.head(5)"
   ]
  },
  {
   "cell_type": "markdown",
   "id": "01d70eb6",
   "metadata": {
    "papermill": {
     "duration": 0.004909,
     "end_time": "2024-02-15T13:32:12.889141",
     "exception": false,
     "start_time": "2024-02-15T13:32:12.884232",
     "status": "completed"
    },
    "tags": []
   },
   "source": [
    "\n",
    "Preprocessing the list of Courses along with their descriptions.Some of the preprocess thechniques that are to be used are stopword removal, stemming, lematisation, and special character removal.(Complete the preprocess function)\n",
    "\n",
    "Steps:\n",
    "1. remove the special characters using re module use [^A-Za-z1-9 ] as regualr expression\n",
    "2. transform the text into lowercase\n",
    "3. remove the stopwords defined in eng_stopwords\n",
    "4. Perform stemming and lemmatisation using PorterStemmer() and WordNetLemmatizer()\n",
    "5. print the list after preprocessing the text\n",
    "\n",
    "For futher reference: https://www.analyticsvidhya.com/blog/2021/06/text-preprocessing-in-nlp-with-python-codes/"
   ]
  },
  {
   "cell_type": "code",
   "execution_count": 2,
   "id": "737efe06",
   "metadata": {
    "execution": {
     "iopub.execute_input": "2024-02-15T13:32:12.901685Z",
     "iopub.status.busy": "2024-02-15T13:32:12.901310Z",
     "iopub.status.idle": "2024-02-15T13:32:15.087308Z",
     "shell.execute_reply": "2024-02-15T13:32:15.086078Z"
    },
    "papermill": {
     "duration": 2.195395,
     "end_time": "2024-02-15T13:32:15.089924",
     "exception": false,
     "start_time": "2024-02-15T13:32:12.894529",
     "status": "completed"
    },
    "tags": []
   },
   "outputs": [
    {
     "name": "stdout",
     "output_type": "stream",
     "text": [
      "[nltk_data] Downloading package stopwords to /usr/share/nltk_data...\n",
      "[nltk_data]   Package stopwords is already up-to-date!\n",
      "[nltk_data] Downloading package punkt to /usr/share/nltk_data...\n",
      "[nltk_data]   Package punkt is already up-to-date!\n"
     ]
    },
    {
     "data": {
      "text/plain": [
       "True"
      ]
     },
     "execution_count": 2,
     "metadata": {},
     "output_type": "execute_result"
    }
   ],
   "source": [
    "#imports\n",
    "import re\n",
    "import nltk\n",
    "from nltk.corpus import stopwords\n",
    "from nltk.stem import PorterStemmer\n",
    "from nltk.stem import WordNetLemmatizer\n",
    "from nltk.tokenize import word_tokenize\n",
    "import string\n",
    "\n",
    "# Download NLTK resources (if not already downloaded)\n",
    "nltk.download('stopwords')\n",
    "nltk.download('punkt')\n",
    "\n"
   ]
  },
  {
   "cell_type": "code",
   "execution_count": 3,
   "id": "aa9f8e32",
   "metadata": {
    "execution": {
     "iopub.execute_input": "2024-02-15T13:32:15.102447Z",
     "iopub.status.busy": "2024-02-15T13:32:15.102017Z",
     "iopub.status.idle": "2024-02-15T13:32:15.109012Z",
     "shell.execute_reply": "2024-02-15T13:32:15.108140Z"
    },
    "papermill": {
     "duration": 0.015854,
     "end_time": "2024-02-15T13:32:15.111167",
     "exception": false,
     "start_time": "2024-02-15T13:32:15.095313",
     "status": "completed"
    },
    "tags": []
   },
   "outputs": [],
   "source": [
    "eng_stopwords = stopwords.words('english')\n",
    "stemmer = PorterStemmer()\n",
    "lemmatizer = WordNetLemmatizer()"
   ]
  },
  {
   "cell_type": "code",
   "execution_count": 4,
   "id": "c3f50809",
   "metadata": {
    "execution": {
     "iopub.execute_input": "2024-02-15T13:32:15.124139Z",
     "iopub.status.busy": "2024-02-15T13:32:15.123289Z",
     "iopub.status.idle": "2024-02-15T13:32:15.920979Z",
     "shell.execute_reply": "2024-02-15T13:32:15.919787Z"
    },
    "papermill": {
     "duration": 0.806856,
     "end_time": "2024-02-15T13:32:15.923422",
     "exception": false,
     "start_time": "2024-02-15T13:32:15.116566",
     "status": "completed"
    },
    "tags": []
   },
   "outputs": [
    {
     "name": "stdout",
     "output_type": "stream",
     "text": [
      "['designed', 'new', 'elearning', 'course', 'prepare', 'strategies', 'successful', 'online', 'learnerthe', 'edx', 'learning', 'design', 'team', 'curated', 'powerful', 'sciencebacked', 'techniques', 'start', 'using', 'right', 'away', 'learning', 'platformthe', 'verified', 'certificate', 'course', 'free', 'use', 'following', 'coupon', 'code', 'september', 'upgrade', 'cost', 'yzadmnuanjuthis', 'course', 'help', 'answer', 'following', 'questions', 'education', 'teacher', 'training']\n"
     ]
    }
   ],
   "source": [
    "\n",
    "eng_stopwords = set(stopwords.words('english'))\n",
    "\n",
    "# function for preprocessing the text\n",
    "def preprocess(text):\n",
    "    # Convert to lowercase\n",
    "    text = ''.join([char for char in text if char.isalpha() or char.isspace()])\n",
    "    text = text.lower()\n",
    "    \n",
    "    tokens = word_tokenize(text) #tokenize the text\n",
    "    clean_text = [] \n",
    "    for token in tokens:\n",
    "        if token not in eng_stopwords: #removes stopwords\n",
    "            clean_text.append(token) #lemmatizing and appends to clean_list\n",
    "    return clean_text\n",
    "\n",
    "\n",
    "# preprocess the course details\n",
    "preprocessed_course_details = [preprocess(text) for text in df['Course Description']]\n",
    "\n",
    "# print the preprocessed course details\n",
    "print(preprocessed_course_details[0])\n",
    "\n"
   ]
  },
  {
   "cell_type": "code",
   "execution_count": 5,
   "id": "c91ce043",
   "metadata": {
    "execution": {
     "iopub.execute_input": "2024-02-15T13:32:15.936249Z",
     "iopub.status.busy": "2024-02-15T13:32:15.935814Z",
     "iopub.status.idle": "2024-02-15T13:32:15.941485Z",
     "shell.execute_reply": "2024-02-15T13:32:15.940301Z"
    },
    "papermill": {
     "duration": 0.01492,
     "end_time": "2024-02-15T13:32:15.944063",
     "exception": false,
     "start_time": "2024-02-15T13:32:15.929143",
     "status": "completed"
    },
    "tags": []
   },
   "outputs": [
    {
     "name": "stdout",
     "output_type": "stream",
     "text": [
      "Designed for those who are new to elearning, this course will prepare you with strategies to be a successful online learner.The edX learning design team has curated some of the most powerful, science-backed techniques which you can start using right away and on any learning platform.The Verified Certificate for this course is free. Use the following coupon code before September 1, 2020 to upgrade at no cost to you: Y5ZADM5NU2AN5JU7This course will help you answer the following questions: Education & Teacher Training\n"
     ]
    }
   ],
   "source": [
    "print(df['Course Description'][0])"
   ]
  },
  {
   "cell_type": "code",
   "execution_count": 6,
   "id": "859d55bd",
   "metadata": {
    "execution": {
     "iopub.execute_input": "2024-02-15T13:32:15.956763Z",
     "iopub.status.busy": "2024-02-15T13:32:15.956393Z",
     "iopub.status.idle": "2024-02-15T13:32:15.962251Z",
     "shell.execute_reply": "2024-02-15T13:32:15.961011Z"
    },
    "papermill": {
     "duration": 0.014923,
     "end_time": "2024-02-15T13:32:15.964557",
     "exception": false,
     "start_time": "2024-02-15T13:32:15.949634",
     "status": "completed"
    },
    "tags": []
   },
   "outputs": [
    {
     "name": "stdout",
     "output_type": "stream",
     "text": [
      "['designed', 'new', 'elearning', 'course', 'prepare', 'strategies', 'successful', 'online', 'learnerthe', 'edx', 'learning', 'design', 'team', 'curated', 'powerful', 'sciencebacked', 'techniques', 'start', 'using', 'right', 'away', 'learning', 'platformthe', 'verified', 'certificate', 'course', 'free', 'use', 'following', 'coupon', 'code', 'september', 'upgrade', 'cost', 'yzadmnuanjuthis', 'course', 'help', 'answer', 'following', 'questions', 'education', 'teacher', 'training']\n"
     ]
    }
   ],
   "source": [
    "print(preprocessed_course_details[0])"
   ]
  },
  {
   "cell_type": "markdown",
   "id": "2ce8b65e",
   "metadata": {
    "papermill": {
     "duration": 0.005266,
     "end_time": "2024-02-15T13:32:15.975429",
     "exception": false,
     "start_time": "2024-02-15T13:32:15.970163",
     "status": "completed"
    },
    "tags": []
   },
   "source": [
    "Lets try to analysize the diffrence between raw text and preprocessed text: \n",
    "\n",
    "* The entire raw **text is now in lowercase**, making it easier for the model to analyze the data. **Models are generally case-sensitive**, treating words like **\"Online\" and \"online\"** as **distinct during vectorization**.\n",
    "\n",
    "* Previously, **numbers** were present in our text, which typically **doesn't provide much information** but **increases** the **dimensionality and redundancy** of our data.\n",
    "\n",
    "* Many **stop words** have been removed from the dataset, and it now contains only **keywords**. Removing stop words is a necessary step because, **without their removal**, if we calculate **TF-IDF**, these words are **likely to receive high weights**, potentially **misleading the model**.\n",
    "\n",
    "* Along with stop words, **short words** have also been **removed**. Sometimes, there are **misspelled or short words** that **don't carry much weight** in the dataset but should be eliminated.\n",
    "\n",
    "* The **removal of punctuation and special characters** was an important preprocessing step. These elements tend to **increase the dimensionality** of the dataset without **adding meaningful information** for the model to learn from."
   ]
  },
  {
   "cell_type": "markdown",
   "id": "9dddc393",
   "metadata": {
    "papermill": {
     "duration": 0.005333,
     "end_time": "2024-02-15T13:32:15.986324",
     "exception": false,
     "start_time": "2024-02-15T13:32:15.980991",
     "status": "completed"
    },
    "tags": []
   },
   "source": [
    "Tokenizing the string representations provided in preprocessed_course_details using TF-IDF from sklearn.\n",
    "\n",
    "Steps:\n",
    "1. Initialize the `TfidfVectorizer()`\n",
    "2. Use the `.fit_transform()` method on the entire text\n",
    "3. `.transform()` the Text\n",
    "4. Print number of samples and features using `.shape`\n",
    "5. Print the TF-IDF of the first row"
   ]
  },
  {
   "cell_type": "code",
   "execution_count": 7,
   "id": "5c2fce67",
   "metadata": {
    "execution": {
     "iopub.execute_input": "2024-02-15T13:32:15.999356Z",
     "iopub.status.busy": "2024-02-15T13:32:15.998934Z",
     "iopub.status.idle": "2024-02-15T13:32:16.004519Z",
     "shell.execute_reply": "2024-02-15T13:32:16.003393Z"
    },
    "papermill": {
     "duration": 0.015002,
     "end_time": "2024-02-15T13:32:16.006798",
     "exception": false,
     "start_time": "2024-02-15T13:32:15.991796",
     "status": "completed"
    },
    "tags": []
   },
   "outputs": [],
   "source": [
    "df['Preprocessed_Course_Details'] = preprocessed_course_details"
   ]
  },
  {
   "cell_type": "code",
   "execution_count": 8,
   "id": "cf4642d0",
   "metadata": {
    "execution": {
     "iopub.execute_input": "2024-02-15T13:32:16.020015Z",
     "iopub.status.busy": "2024-02-15T13:32:16.019269Z",
     "iopub.status.idle": "2024-02-15T13:32:16.038221Z",
     "shell.execute_reply": "2024-02-15T13:32:16.037060Z"
    },
    "papermill": {
     "duration": 0.027986,
     "end_time": "2024-02-15T13:32:16.040489",
     "exception": false,
     "start_time": "2024-02-15T13:32:16.012503",
     "status": "completed"
    },
    "tags": []
   },
   "outputs": [
    {
     "data": {
      "text/html": [
       "<div>\n",
       "<style scoped>\n",
       "    .dataframe tbody tr th:only-of-type {\n",
       "        vertical-align: middle;\n",
       "    }\n",
       "\n",
       "    .dataframe tbody tr th {\n",
       "        vertical-align: top;\n",
       "    }\n",
       "\n",
       "    .dataframe thead th {\n",
       "        text-align: right;\n",
       "    }\n",
       "</style>\n",
       "<table border=\"1\" class=\"dataframe\">\n",
       "  <thead>\n",
       "    <tr style=\"text-align: right;\">\n",
       "      <th></th>\n",
       "      <th>Name</th>\n",
       "      <th>University</th>\n",
       "      <th>Difficulty Level</th>\n",
       "      <th>Link</th>\n",
       "      <th>About</th>\n",
       "      <th>Course Description</th>\n",
       "      <th>Preprocessed_Course_Details</th>\n",
       "    </tr>\n",
       "  </thead>\n",
       "  <tbody>\n",
       "    <tr>\n",
       "      <th>0</th>\n",
       "      <td>How to Learn Online</td>\n",
       "      <td>edX</td>\n",
       "      <td>Beginner</td>\n",
       "      <td>https://www.edx.org/course/how-to-learn-online</td>\n",
       "      <td>Learn essential strategies for successful onli...</td>\n",
       "      <td>Designed for those who are new to elearning, t...</td>\n",
       "      <td>[designed, new, elearning, course, prepare, st...</td>\n",
       "    </tr>\n",
       "    <tr>\n",
       "      <th>1</th>\n",
       "      <td>Programming for Everybody (Getting Started wit...</td>\n",
       "      <td>The University of Michigan</td>\n",
       "      <td>Beginner</td>\n",
       "      <td>https://www.edx.org/course/programming-for-eve...</td>\n",
       "      <td>This course is a \"no prerequisite\" introductio...</td>\n",
       "      <td>This course aims to teach everyone the basics ...</td>\n",
       "      <td>[course, aims, teach, everyone, basics, progra...</td>\n",
       "    </tr>\n",
       "    <tr>\n",
       "      <th>2</th>\n",
       "      <td>CS50's Introduction to Computer Science</td>\n",
       "      <td>Harvard University</td>\n",
       "      <td>Beginner</td>\n",
       "      <td>https://www.edx.org/course/cs50s-introduction-...</td>\n",
       "      <td>An introduction to the intellectual enterprise...</td>\n",
       "      <td>This is CS50x , Harvard University's introduct...</td>\n",
       "      <td>[csx, harvard, universitys, introduction, inte...</td>\n",
       "    </tr>\n",
       "    <tr>\n",
       "      <th>3</th>\n",
       "      <td>The Analytics Edge</td>\n",
       "      <td>Massachusetts Institute of Technology</td>\n",
       "      <td>Intermediate</td>\n",
       "      <td>https://www.edx.org/course/the-analytics-edge</td>\n",
       "      <td>Through inspiring examples and stories, discov...</td>\n",
       "      <td>In the last decade, the amount of data availab...</td>\n",
       "      <td>[last, decade, amount, data, available, organi...</td>\n",
       "    </tr>\n",
       "    <tr>\n",
       "      <th>4</th>\n",
       "      <td>Marketing Analytics: Marketing Measurement Str...</td>\n",
       "      <td>University of California, Berkeley</td>\n",
       "      <td>Beginner</td>\n",
       "      <td>https://www.edx.org/course/marketing-analytics...</td>\n",
       "      <td>This course is part of a MicroMasters® Program</td>\n",
       "      <td>Begin your journey in a new career in marketin...</td>\n",
       "      <td>[begin, journey, new, career, marketing, analy...</td>\n",
       "    </tr>\n",
       "  </tbody>\n",
       "</table>\n",
       "</div>"
      ],
      "text/plain": [
       "                                                Name  \\\n",
       "0                                How to Learn Online   \n",
       "1  Programming for Everybody (Getting Started wit...   \n",
       "2            CS50's Introduction to Computer Science   \n",
       "3                                 The Analytics Edge   \n",
       "4  Marketing Analytics: Marketing Measurement Str...   \n",
       "\n",
       "                              University Difficulty Level  \\\n",
       "0                                    edX         Beginner   \n",
       "1             The University of Michigan         Beginner   \n",
       "2                     Harvard University         Beginner   \n",
       "3  Massachusetts Institute of Technology     Intermediate   \n",
       "4     University of California, Berkeley         Beginner   \n",
       "\n",
       "                                                Link  \\\n",
       "0     https://www.edx.org/course/how-to-learn-online   \n",
       "1  https://www.edx.org/course/programming-for-eve...   \n",
       "2  https://www.edx.org/course/cs50s-introduction-...   \n",
       "3      https://www.edx.org/course/the-analytics-edge   \n",
       "4  https://www.edx.org/course/marketing-analytics...   \n",
       "\n",
       "                                               About  \\\n",
       "0  Learn essential strategies for successful onli...   \n",
       "1  This course is a \"no prerequisite\" introductio...   \n",
       "2  An introduction to the intellectual enterprise...   \n",
       "3  Through inspiring examples and stories, discov...   \n",
       "4     This course is part of a MicroMasters® Program   \n",
       "\n",
       "                                  Course Description  \\\n",
       "0  Designed for those who are new to elearning, t...   \n",
       "1  This course aims to teach everyone the basics ...   \n",
       "2  This is CS50x , Harvard University's introduct...   \n",
       "3  In the last decade, the amount of data availab...   \n",
       "4  Begin your journey in a new career in marketin...   \n",
       "\n",
       "                         Preprocessed_Course_Details  \n",
       "0  [designed, new, elearning, course, prepare, st...  \n",
       "1  [course, aims, teach, everyone, basics, progra...  \n",
       "2  [csx, harvard, universitys, introduction, inte...  \n",
       "3  [last, decade, amount, data, available, organi...  \n",
       "4  [begin, journey, new, career, marketing, analy...  "
      ]
     },
     "execution_count": 8,
     "metadata": {},
     "output_type": "execute_result"
    }
   ],
   "source": [
    "df.head()"
   ]
  },
  {
   "cell_type": "code",
   "execution_count": 9,
   "id": "4c054665",
   "metadata": {
    "execution": {
     "iopub.execute_input": "2024-02-15T13:32:16.053992Z",
     "iopub.status.busy": "2024-02-15T13:32:16.053616Z",
     "iopub.status.idle": "2024-02-15T13:32:16.180553Z",
     "shell.execute_reply": "2024-02-15T13:32:16.178648Z"
    },
    "papermill": {
     "duration": 0.136073,
     "end_time": "2024-02-15T13:32:16.182637",
     "exception": false,
     "start_time": "2024-02-15T13:32:16.046564",
     "status": "completed"
    },
    "tags": []
   },
   "outputs": [
    {
     "name": "stdout",
     "output_type": "stream",
     "text": [
      "Output matrix size: (720, 11767)\n",
      "Length of the vectorizer vocabulary: 11767\n"
     ]
    }
   ],
   "source": [
    "from sklearn.feature_extraction.text import TfidfVectorizer\n",
    "\n",
    "# Convert the list of tokens back to strings for each document\n",
    "preprocessed_texts = [' '.join(tokens) for tokens in df['Preprocessed_Course_Details']]\n",
    "\n",
    "# Initialize the TfidfVectorizer\n",
    "vectorizer = TfidfVectorizer()\n",
    "\n",
    "# Fit and transform the data\n",
    "tfidf_matrix = vectorizer.fit_transform(preprocessed_texts)\n",
    "\n",
    "# Print the output matrix size\n",
    "print(f'Output matrix size: {tfidf_matrix.shape}')\n",
    "\n",
    "# Print the length of the vectorizer vocabulary\n",
    "print(f'Length of the vectorizer vocabulary: {len(vectorizer.vocabulary_)}')\n"
   ]
  },
  {
   "cell_type": "markdown",
   "id": "4437276d",
   "metadata": {
    "papermill": {
     "duration": 0.005761,
     "end_time": "2024-02-15T13:32:16.194704",
     "exception": false,
     "start_time": "2024-02-15T13:32:16.188943",
     "status": "completed"
    },
    "tags": []
   },
   "source": [
    "* **Term Frequency** (TF): It measures how often a **term (word) appears in a document**. The TF for a term in a document is calculated as the ratio of the number of times the term appears in the document to the total number of terms in the document.\n",
    "\n",
    "* **Inverse Document Frequency** (IDF): It measures how important a term is across the entire corpus. The IDF for a term is calculated as the ratio of the total number of documents in the corpus to the number of documents containing the term.\n",
    "\n",
    "The TF-IDF score represents how important a term is in a specific document relative to its importance in the entire corpus. High TF-IDF scores are assigned to terms that appear frequently in a document but are rare across the entire corpus.\n",
    "\n",
    "Other text representations and consider which one might be suitable for the task.\n",
    "\n",
    "* **Word Embeddings (Word2Vec, GloVe)**: Dense vector representations of words that capture semantic relationships. Word embeddings are able to capture word semantics and relationships.\n",
    "\n",
    "* **Doc2Vec**: Extends Word2Vec to represent entire documents as vectors. Doc2Vec captures the semantic meaning of documents as vectors.\n",
    "\n",
    "* **Count Vectorization**: Represents a document as a vector of word counts. It is similar to TF-IDF but without the inverse document frequency component.\n",
    "\n"
   ]
  },
  {
   "cell_type": "markdown",
   "id": "30cdf082",
   "metadata": {
    "papermill": {
     "duration": 0.005627,
     "end_time": "2024-02-15T13:32:16.206244",
     "exception": false,
     "start_time": "2024-02-15T13:32:16.200617",
     "status": "completed"
    },
    "tags": []
   },
   "source": [
    "The top-5 most similar courses that a person might opt if he is interested in the course named 'Python Basics for Data Science'.\n",
    "\n",
    "Steps:\n",
    "1. Import `cosine_similarity` from sklearn.metrics.pairwise\n",
    "2. Compute `cosine_similarity` using tf_vector with index of 'Python Basics for Data Science' and all other rows\n",
    "3. Use `argsort` to sort the cosine_similarity results\n",
    "4. Print indices of top-5 most similar results from sorted array (hint: argsort sorts in ascending order)\n",
    "5. Display text of top-5 most similar courses"
   ]
  },
  {
   "cell_type": "code",
   "execution_count": 10,
   "id": "5b58268e",
   "metadata": {
    "execution": {
     "iopub.execute_input": "2024-02-15T13:32:16.220392Z",
     "iopub.status.busy": "2024-02-15T13:32:16.219555Z",
     "iopub.status.idle": "2024-02-15T13:32:16.234317Z",
     "shell.execute_reply": "2024-02-15T13:32:16.233317Z"
    },
    "papermill": {
     "duration": 0.024354,
     "end_time": "2024-02-15T13:32:16.236781",
     "exception": false,
     "start_time": "2024-02-15T13:32:16.212427",
     "status": "completed"
    },
    "tags": []
   },
   "outputs": [
    {
     "name": "stdout",
     "output_type": "stream",
     "text": [
      "Top-5 most similar courses:\n",
      "Python Data Structures\n",
      "Using Python for Research\n",
      "Analytics in Python\n",
      "Visualizing Data with Python\n",
      "Programming for Everybody (Getting Started with Python)\n"
     ]
    }
   ],
   "source": [
    "from sklearn.metrics.pairwise import cosine_similarity\n",
    "\n",
    "# Assuming df is your DataFrame and tfidf_matrix is the TF-IDF matrix obtained from TfidfVectorizer\n",
    "\n",
    "# Index of 'Python Basics for Data Science' course\n",
    "query_index = df[df['Name'] == 'Python Basics for Data Science'].index[0]\n",
    "\n",
    "# Compute cosine similarity\n",
    "cosine_similarities = cosine_similarity(tfidf_matrix[query_index], tfidf_matrix).flatten()\n",
    "\n",
    "# Use argsort to get the indices of the courses sorted by similarity\n",
    "top_5_indices = cosine_similarities.argsort()[:-7:-1]\n",
    "\n",
    "# Display text of top-5 most similar courses\n",
    "top_5 = [df.iloc[index]['Name'] for index in top_5_indices[1:]]  # Exclude the first one\n",
    "print(\"Top-5 most similar courses:\")\n",
    "for course in top_5:\n",
    "    print(course)\n"
   ]
  },
  {
   "cell_type": "markdown",
   "id": "e019638a",
   "metadata": {
    "papermill": {
     "duration": 0.006015,
     "end_time": "2024-02-15T13:32:16.249004",
     "exception": false,
     "start_time": "2024-02-15T13:32:16.242989",
     "status": "completed"
    },
    "tags": []
   },
   "source": [
    "The different metrics available apart form Cosine similarity to fine the similarity between the vector representations of text."
   ]
  },
  {
   "cell_type": "markdown",
   "id": "2c35fe85",
   "metadata": {
    "papermill": {
     "duration": 0.005802,
     "end_time": "2024-02-15T13:32:16.260913",
     "exception": false,
     "start_time": "2024-02-15T13:32:16.255111",
     "status": "completed"
    },
    "tags": []
   },
   "source": [
    "* **Euclidean Distance**: Measures the straight-line distance between two vectors in the vector space. Smaller distances indicate higher similarity.\n",
    "\n",
    "* **Manhattan Distance** (L1 Norm): Sum of the absolute differences between the vector components. It is also known as the \"city block\" distance.\n",
    "\n",
    "* **Minkowski Distance**: A generalization of Euclidean and Manhattan distances. It allows you to control the \"order\" of the distance calculation.\n",
    "\n",
    "* **Jaccard Similarity**: Measures the similarity between sets. It is the size of the intersection divided by the size of the union of the sets.\n",
    "\n",
    "\n",
    "In the context of finding similar courses based on content, cosine similarity is often preferred for several reasons:\n",
    "\n",
    "* **Scale-Invariant**:  not affected by the magnitude of the vectors\n",
    "\n",
    "* **Insensitive to Vector Length**: Cosine similarity is insensitive to the length of the vectors\n",
    "\n",
    "* **Angle Measure** : Cosine similarity measures the cosine of the angle between two vectors. In the context of text similarity, this can be interpreted as measuring the orientation of the vectors in the high-dimensional space.\n",
    "\n",
    "Given the common usage and effectiveness of cosine similarity in text-related tasks, it is a reasonable choice for finding similar courses based on content. "
   ]
  }
 ],
 "metadata": {
  "kaggle": {
   "accelerator": "none",
   "dataSources": [
    {
     "datasetId": 4050158,
     "sourceId": 7039756,
     "sourceType": "datasetVersion"
    }
   ],
   "dockerImageVersionId": 30587,
   "isGpuEnabled": false,
   "isInternetEnabled": true,
   "language": "python",
   "sourceType": "notebook"
  },
  "kernelspec": {
   "display_name": "Python 3",
   "language": "python",
   "name": "python3"
  },
  "language_info": {
   "codemirror_mode": {
    "name": "ipython",
    "version": 3
   },
   "file_extension": ".py",
   "mimetype": "text/x-python",
   "name": "python",
   "nbconvert_exporter": "python",
   "pygments_lexer": "ipython3",
   "version": "3.10.12"
  },
  "papermill": {
   "default_parameters": {},
   "duration": 8.940922,
   "end_time": "2024-02-15T13:32:16.887014",
   "environment_variables": {},
   "exception": null,
   "input_path": "__notebook__.ipynb",
   "output_path": "__notebook__.ipynb",
   "parameters": {},
   "start_time": "2024-02-15T13:32:07.946092",
   "version": "2.4.0"
  }
 },
 "nbformat": 4,
 "nbformat_minor": 5
}
